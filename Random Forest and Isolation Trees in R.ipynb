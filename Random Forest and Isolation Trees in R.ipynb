{
 "cells": [
  {
   "cell_type": "markdown",
   "id": "7130198f",
   "metadata": {},
   "source": [
    "# Introduction{-}"
   ]
  },
  {
   "cell_type": "markdown",
   "id": "5fc3e554",
   "metadata": {},
   "source": [
    "Dans ce rapport, nous étudions un échantillon de données intitulé **\"Ionosphere\"**. Ce dernier contient des données radar qui ont été recueillies par un système à Goose Bay, au Labrador Canada. Ce système est constitué d’un réseau phasé de plusieurs antennes haute fréquence avec une puissance totale émise de l’ordre de 6,4 kilowatts. Les cibles étaient des électrons libres dans l’ionosphère. Les **bons** (classifiés «g» pour **good**) retours radar sont ceux qui mettent en évidence un certain type de structure dans l’ionosphère. Les **mauvais** («b» pour **bad**) retours sont ceux qui ne le font pas ; leurs signaux traversent l’ionosphère. \n",
    "\n",
    "L’échantillon contient 351 observations et **33 variables**, dont la variable **\"class\"** qui est celle que l'on cherche à expliquer. Les 32 variables quantitatives sont supposées continues. Nous sommes ainsi confrontés à un problème de **classification binaire**.\n",
    "\n",
    "Le rapport se structure de la façon qui suit: dans un premier temps, il s'agit de faire une **analyste statistique** de notre échantillon de données. Ensuite, nous séparerons l'échantillon en deux groupes (*train* et *test*) et construirons puis testerons des modèles de **forêt aléatoire** pour la classification. Après celà, il s'agira de construire et de tester sur ces données un modèle de **forêt d'isolement** de détection d'anomalies. Par la suite, nous réaliserons l'**analyse par composante principale (ACP)** des données et étudierons son utilisation dans la réduction du nombre de variables ainsi que dans la détection d'anomalie. Enfin, nous mettrons en oeuvre l'**AFD descriptive et prédictive** sur ces données dans le but de discriminer les deux classes \"g\" et \"b\" d'individus. \n",
    "\n",
    "Tout au long du rapport, nous comparerons et interpréterons les différences entre les résultats issus de ces diverses techniques."
   ]
  },
  {
   "cell_type": "markdown",
   "id": "f57ef699",
   "metadata": {},
   "source": [
    "# Analyse statistique"
   ]
  },
  {
   "cell_type": "markdown",
   "id": "44f36241",
   "metadata": {},
   "source": [
    "On récupère dans un premier temps nos données:"
   ]
  },
  {
   "cell_type": "code",
   "execution_count": 1,
   "id": "617ae329",
   "metadata": {},
   "outputs": [],
   "source": [
    "setwd('D:/ICM 2A/Data science/UP2 - Apprentissage statistique')\n",
    "rm(list=ls())\n",
    "data <- read.csv(file='Ionosphere.csv', header=TRUE, sep=\";\")"
   ]
  },
  {
   "cell_type": "markdown",
   "id": "e21d29a8",
   "metadata": {},
   "source": [
    "Visualisons les différentes variables:"
   ]
  },
  {
   "cell_type": "code",
   "execution_count": 2,
   "id": "25b033d8",
   "metadata": {},
   "outputs": [
    {
     "data": {
      "text/plain": [
       "      a01               a02                a03               a04         \n",
       " Min.   :-1.0000   Min.   :-1.00000   Min.   :-1.0000   Min.   :-1.0000  \n",
       " 1st Qu.: 0.4721   1st Qu.:-0.06474   1st Qu.: 0.4127   1st Qu.:-0.0248  \n",
       " Median : 0.8711   Median : 0.01631   Median : 0.8092   Median : 0.0228  \n",
       " Mean   : 0.6413   Mean   : 0.04437   Mean   : 0.6011   Mean   : 0.1159  \n",
       " 3rd Qu.: 1.0000   3rd Qu.: 0.19418   3rd Qu.: 1.0000   3rd Qu.: 0.3347  \n",
       " Max.   : 1.0000   Max.   : 1.00000   Max.   : 1.0000   Max.   : 1.0000  \n",
       "      a05               a06                a07                a08          \n",
       " Min.   :-1.0000   Min.   :-1.00000   Min.   :-1.00000   Min.   :-1.00000  \n",
       " 1st Qu.: 0.2113   1st Qu.:-0.05484   1st Qu.: 0.08711   1st Qu.:-0.04807  \n",
       " Median : 0.7287   Median : 0.01471   Median : 0.68421   Median : 0.01829  \n",
       " Mean   : 0.5501   Mean   : 0.11936   Mean   : 0.51185   Mean   : 0.18135  \n",
       " 3rd Qu.: 0.9692   3rd Qu.: 0.44567   3rd Qu.: 0.95324   3rd Qu.: 0.53419  \n",
       " Max.   : 1.0000   Max.   : 1.00000   Max.   : 1.00000   Max.   : 1.00000  \n",
       "      a09                a10                a11               a12          \n",
       " Min.   :-1.00000   Min.   :-1.00000   Min.   :-1.0000   Min.   :-1.00000  \n",
       " 1st Qu.: 0.02112   1st Qu.:-0.06527   1st Qu.: 0.0000   1st Qu.:-0.07372  \n",
       " Median : 0.66798   Median : 0.02825   Median : 0.6441   Median : 0.03027  \n",
       " Mean   : 0.47618   Mean   : 0.15504   Mean   : 0.4008   Mean   : 0.09341  \n",
       " 3rd Qu.: 0.95790   3rd Qu.: 0.48237   3rd Qu.: 0.9555   3rd Qu.: 0.37486  \n",
       " Max.   : 1.00000   Max.   : 1.00000   Max.   : 1.0000   Max.   : 1.00000  \n",
       "      a13               a14                a15               a16           \n",
       " Min.   :-1.0000   Min.   :-1.00000   Min.   :-1.0000   Min.   :-1.000000  \n",
       " 1st Qu.: 0.0000   1st Qu.:-0.08170   1st Qu.: 0.0000   1st Qu.:-0.225690  \n",
       " Median : 0.6019   Median : 0.00000   Median : 0.5909   Median : 0.000000  \n",
       " Mean   : 0.3442   Mean   : 0.07113   Mean   : 0.3819   Mean   :-0.003617  \n",
       " 3rd Qu.: 0.9193   3rd Qu.: 0.30897   3rd Qu.: 0.9357   3rd Qu.: 0.195285  \n",
       " Max.   : 1.0000   Max.   : 1.00000   Max.   : 1.0000   Max.   : 1.000000  \n",
       "      a17               a18                a19               a20           \n",
       " Min.   :-1.0000   Min.   :-1.00000   Min.   :-1.0000   Min.   :-1.000000  \n",
       " 1st Qu.: 0.0000   1st Qu.:-0.23467   1st Qu.: 0.0000   1st Qu.:-0.243870  \n",
       " Median : 0.5762   Median : 0.00000   Median : 0.4991   Median : 0.000000  \n",
       " Mean   : 0.3594   Mean   :-0.02402   Mean   : 0.3367   Mean   : 0.008296  \n",
       " 3rd Qu.: 0.8993   3rd Qu.: 0.13437   3rd Qu.: 0.8949   3rd Qu.: 0.188760  \n",
       " Max.   : 1.0000   Max.   : 1.00000   Max.   : 1.0000   Max.   : 1.000000  \n",
       "      a21               a22                a23               a24          \n",
       " Min.   :-1.0000   Min.   :-1.00000   Min.   :-1.0000   Min.   :-1.00000  \n",
       " 1st Qu.: 0.0000   1st Qu.:-0.36689   1st Qu.: 0.0000   1st Qu.:-0.33239  \n",
       " Median : 0.5318   Median : 0.00000   Median : 0.5539   Median :-0.01505  \n",
       " Mean   : 0.3625   Mean   :-0.05741   Mean   : 0.3961   Mean   :-0.07119  \n",
       " 3rd Qu.: 0.9112   3rd Qu.: 0.16463   3rd Qu.: 0.9052   3rd Qu.: 0.15676  \n",
       " Max.   : 1.0000   Max.   : 1.00000   Max.   : 1.0000   Max.   : 1.00000  \n",
       "      a25               a26                a27               a28          \n",
       " Min.   :-1.0000   Min.   :-1.00000   Min.   :-1.0000   Min.   :-1.00000  \n",
       " 1st Qu.: 0.2864   1st Qu.:-0.44316   1st Qu.: 0.0000   1st Qu.:-0.23689  \n",
       " Median : 0.7082   Median :-0.01769   Median : 0.4966   Median : 0.00000  \n",
       " Mean   : 0.5416   Mean   :-0.06954   Mean   : 0.3784   Mean   :-0.02791  \n",
       " 3rd Qu.: 0.9999   3rd Qu.: 0.15354   3rd Qu.: 0.8835   3rd Qu.: 0.15407  \n",
       " Max.   : 1.0000   Max.   : 1.00000   Max.   : 1.0000   Max.   : 1.00000  \n",
       "      a29               a30                 a31               a32          \n",
       " Min.   :-1.0000   Min.   :-1.000000   Min.   :-1.0000   Min.   :-1.00000  \n",
       " 1st Qu.: 0.0000   1st Qu.:-0.242595   1st Qu.: 0.0000   1st Qu.:-0.16535  \n",
       " Median : 0.4428   Median : 0.000000   Median : 0.4096   Median : 0.00000  \n",
       " Mean   : 0.3525   Mean   :-0.003794   Mean   : 0.3494   Mean   : 0.01448  \n",
       " 3rd Qu.: 0.8576   3rd Qu.: 0.200120   3rd Qu.: 0.8138   3rd Qu.: 0.17166  \n",
       " Max.   : 1.0000   Max.   : 1.000000   Max.   : 1.0000   Max.   : 1.00000  \n",
       "    class          \n",
       " Length:351        \n",
       " Class :character  \n",
       " Mode  :character  \n",
       "                   \n",
       "                   \n",
       "                   "
      ]
     },
     "metadata": {},
     "output_type": "display_data"
    }
   ],
   "source": [
    "summary(data)"
   ]
  },
  {
   "cell_type": "markdown",
   "id": "754d2f88",
   "metadata": {},
   "source": [
    "On a 33 variables descriptives de 351 individus. 32 variables sont numériques et la variable classe est binaire ('g' ou 'b'). Quelques statistiques descriptives (min, mean, max, median) des variabes numériques sont données par la fonction summary ci-dessus. Quelques remarques :\n",
    "\n",
    "Les 32 variables numériques sont toutes **à valeur dans l'intervalle $\\left[-1,1\\right]$**, ce qui laisserait peut-être penser qu'elles possèdent la même unité (ou du moins le même ordre de grandeur). Certaines semblent **centrées** (moyenne nulle), mais d'autres non.\n",
    "\n",
    "Etudions l'écart-type des 32 variables numériques:"
   ]
  },
  {
   "cell_type": "code",
   "execution_count": 3,
   "id": "5fdf6bfb",
   "metadata": {},
   "outputs": [
    {
     "data": {
      "text/html": [
       "<style>\n",
       ".dl-inline {width: auto; margin:0; padding: 0}\n",
       ".dl-inline>dt, .dl-inline>dd {float: none; width: auto; display: inline-block}\n",
       ".dl-inline>dt::after {content: \":\\0020\"; padding-right: .5ex}\n",
       ".dl-inline>dt:not(:first-of-type) {padding-left: .5ex}\n",
       "</style><dl class=dl-inline><dt>a01</dt><dd>0.497708202520014</dd><dt>a02</dt><dd>0.44143477986208</dd><dt>a03</dt><dd>0.519861513411958</dd><dt>a04</dt><dd>0.460810128995047</dd><dt>a05</dt><dd>0.492653771140902</dd><dt>a06</dt><dd>0.520749895758722</dd><dt>a07</dt><dd>0.507065526859402</dd><dt>a08</dt><dd>0.483850888265982</dd><dt>a09</dt><dd>0.563496361914066</dd><dt>a10</dt><dd>0.494817449158568</dd><dt>a11</dt><dd>0.622186124042585</dd><dt>a12</dt><dd>0.494872640828379</dd><dt>a13</dt><dd>0.652827832222125</dd><dt>a14</dt><dd>0.45837067230505</dd><dt>a15</dt><dd>0.618020354205151</dd><dt>a16</dt><dd>0.496761983253337</dd><dt>a17</dt><dd>0.626266809736973</dd><dt>a18</dt><dd>0.519076091804175</dd><dt>a19</dt><dd>0.609828322665831</dd><dt>a20</dt><dd>0.518165886822502</dd><dt>a21</dt><dd>0.603767489643601</dd><dt>a22</dt><dd>0.527456318702114</dd><dt>a23</dt><dd>0.578450887520743</dd><dt>a24</dt><dd>0.508494500358945</dd><dt>a25</dt><dd>0.516204665375986</dd><dt>a26</dt><dd>0.550025242775508</dd><dt>a27</dt><dd>0.575885558649988</dd><dt>a28</dt><dd>0.507974098829109</dd><dt>a29</dt><dd>0.571483371941104</dd><dt>a30</dt><dd>0.51357436073864</dd><dt>a31</dt><dd>0.522663372822405</dd><dt>a32</dt><dd>0.46833722312208</dd></dl>\n"
      ],
      "text/latex": [
       "\\begin{description*}\n",
       "\\item[a01] 0.497708202520014\n",
       "\\item[a02] 0.44143477986208\n",
       "\\item[a03] 0.519861513411958\n",
       "\\item[a04] 0.460810128995047\n",
       "\\item[a05] 0.492653771140902\n",
       "\\item[a06] 0.520749895758722\n",
       "\\item[a07] 0.507065526859402\n",
       "\\item[a08] 0.483850888265982\n",
       "\\item[a09] 0.563496361914066\n",
       "\\item[a10] 0.494817449158568\n",
       "\\item[a11] 0.622186124042585\n",
       "\\item[a12] 0.494872640828379\n",
       "\\item[a13] 0.652827832222125\n",
       "\\item[a14] 0.45837067230505\n",
       "\\item[a15] 0.618020354205151\n",
       "\\item[a16] 0.496761983253337\n",
       "\\item[a17] 0.626266809736973\n",
       "\\item[a18] 0.519076091804175\n",
       "\\item[a19] 0.609828322665831\n",
       "\\item[a20] 0.518165886822502\n",
       "\\item[a21] 0.603767489643601\n",
       "\\item[a22] 0.527456318702114\n",
       "\\item[a23] 0.578450887520743\n",
       "\\item[a24] 0.508494500358945\n",
       "\\item[a25] 0.516204665375986\n",
       "\\item[a26] 0.550025242775508\n",
       "\\item[a27] 0.575885558649988\n",
       "\\item[a28] 0.507974098829109\n",
       "\\item[a29] 0.571483371941104\n",
       "\\item[a30] 0.51357436073864\n",
       "\\item[a31] 0.522663372822405\n",
       "\\item[a32] 0.46833722312208\n",
       "\\end{description*}\n"
      ],
      "text/markdown": [
       "a01\n",
       ":   0.497708202520014a02\n",
       ":   0.44143477986208a03\n",
       ":   0.519861513411958a04\n",
       ":   0.460810128995047a05\n",
       ":   0.492653771140902a06\n",
       ":   0.520749895758722a07\n",
       ":   0.507065526859402a08\n",
       ":   0.483850888265982a09\n",
       ":   0.563496361914066a10\n",
       ":   0.494817449158568a11\n",
       ":   0.622186124042585a12\n",
       ":   0.494872640828379a13\n",
       ":   0.652827832222125a14\n",
       ":   0.45837067230505a15\n",
       ":   0.618020354205151a16\n",
       ":   0.496761983253337a17\n",
       ":   0.626266809736973a18\n",
       ":   0.519076091804175a19\n",
       ":   0.609828322665831a20\n",
       ":   0.518165886822502a21\n",
       ":   0.603767489643601a22\n",
       ":   0.527456318702114a23\n",
       ":   0.578450887520743a24\n",
       ":   0.508494500358945a25\n",
       ":   0.516204665375986a26\n",
       ":   0.550025242775508a27\n",
       ":   0.575885558649988a28\n",
       ":   0.507974098829109a29\n",
       ":   0.571483371941104a30\n",
       ":   0.51357436073864a31\n",
       ":   0.522663372822405a32\n",
       ":   0.46833722312208\n",
       "\n"
      ],
      "text/plain": [
       "      a01       a02       a03       a04       a05       a06       a07       a08 \n",
       "0.4977082 0.4414348 0.5198615 0.4608101 0.4926538 0.5207499 0.5070655 0.4838509 \n",
       "      a09       a10       a11       a12       a13       a14       a15       a16 \n",
       "0.5634964 0.4948174 0.6221861 0.4948726 0.6528278 0.4583707 0.6180204 0.4967620 \n",
       "      a17       a18       a19       a20       a21       a22       a23       a24 \n",
       "0.6262668 0.5190761 0.6098283 0.5181659 0.6037675 0.5274563 0.5784509 0.5084945 \n",
       "      a25       a26       a27       a28       a29       a30       a31       a32 \n",
       "0.5162047 0.5500252 0.5758856 0.5079741 0.5714834 0.5135744 0.5226634 0.4683372 "
      ]
     },
     "metadata": {},
     "output_type": "display_data"
    }
   ],
   "source": [
    "sapply(data[,-33], sd, na.rm = TRUE)"
   ]
  },
  {
   "cell_type": "markdown",
   "id": "9730b544",
   "metadata": {},
   "source": [
    "Les 32 variables descriptives possèdent toutes un **écart-type proche de 0.5**, du même ordre de grandeur. \n",
    "\n",
    "En conclusion, les variables semblent partager la même **échelle** et ont une **variance comparable**, elles ne sont néanmoins pas toutes centrée.\n",
    "\n",
    "Ces similarités entre les différentes variables descriptives nous seront utiles plus tard, notamment lors de l'ACP, pour décider du type de prétraitement nécessaire des données avant analyse."
   ]
  },
  {
   "cell_type": "markdown",
   "id": "4b2b7aad",
   "metadata": {},
   "source": [
    "# Classification avec une forêt aléatoire"
   ]
  },
  {
   "cell_type": "markdown",
   "id": "b96f085c",
   "metadata": {},
   "source": [
    "Le but est de construire une forêt aléatoire de haute performance qui a pour but de bien classer les observations de la variable \"class\" entre \"g\" ou \"b\"."
   ]
  },
  {
   "cell_type": "markdown",
   "id": "fd7bc19f",
   "metadata": {},
   "source": [
    "Dans un premier temps, on divise notre base de données en 70% train pour l'apprentissage et 30% test (méthode hold-out pour la validation), en fixant le seed (génération des suites pseudo-aléatoires) à 1234:"
   ]
  },
  {
   "cell_type": "code",
   "execution_count": 4,
   "id": "908ecd2e",
   "metadata": {},
   "outputs": [],
   "source": [
    "set.seed(1234)\n",
    "index <- sample(1:nrow(data),round(0.70*nrow(data)))\n",
    "train <- data[index,]\n",
    "test <- data[-index,]"
   ]
  },
  {
   "cell_type": "markdown",
   "id": "084ad257",
   "metadata": {},
   "source": [
    "On importe la librairie randomForest pour créer notre modèle de forêt:"
   ]
  },
  {
   "cell_type": "code",
   "execution_count": 7,
   "id": "276872a6",
   "metadata": {},
   "outputs": [],
   "source": [
    "library(randomForest)\n",
    "library(Metrics)"
   ]
  },
  {
   "cell_type": "markdown",
   "id": "2928250c",
   "metadata": {},
   "source": [
    "## Forêt aléatoire non optimisée"
   ]
  },
  {
   "cell_type": "markdown",
   "id": "7962b1b1",
   "metadata": {},
   "source": [
    "On commence par une forêt aléatoire avec les hyperparamètres par défaut:"
   ]
  },
  {
   "cell_type": "code",
   "execution_count": 7,
   "id": "ad13ace1",
   "metadata": {},
   "outputs": [],
   "source": [
    "set.seed(1234)\n",
    "rf <- randomForest(as.factor(class) ~ .,data=train)"
   ]
  },
  {
   "cell_type": "markdown",
   "id": "4a1507a8",
   "metadata": {},
   "source": [
    "Réalisons désormais la prédiction sur nos données test et mesurons la précision des prédictions:"
   ]
  },
  {
   "cell_type": "code",
   "execution_count": 8,
   "id": "20c0d9f1",
   "metadata": {},
   "outputs": [
    {
     "data": {
      "text/html": [
       "0.952380952380952"
      ],
      "text/latex": [
       "0.952380952380952"
      ],
      "text/markdown": [
       "0.952380952380952"
      ],
      "text/plain": [
       "[1] 0.952381"
      ]
     },
     "metadata": {},
     "output_type": "display_data"
    }
   ],
   "source": [
    "p1=predict(rf,test)\n",
    "accuracy(test$class, p1)"
   ]
  },
  {
   "cell_type": "markdown",
   "id": "8d1a3f52",
   "metadata": {},
   "source": [
    "Cela signifie qu'avec ce modèle, 95% des individus de l'ensemble test ont bien été classifiés.\n",
    "\n",
    "Ceci nous fournit un score de référence pour la suite de notre étude.\n",
    "\n",
    "Construisons la matrice de confusion:"
   ]
  },
  {
   "cell_type": "code",
   "execution_count": 9,
   "id": "998dfb8b",
   "metadata": {},
   "outputs": [
    {
     "data": {
      "text/plain": [
       "         Actual\n",
       "Predicted  b  g\n",
       "        b 40  3\n",
       "        g  2 60"
      ]
     },
     "metadata": {},
     "output_type": "display_data"
    }
   ],
   "source": [
    "mc1 <- table(Predicted = p1, Actual = test$class)\n",
    "mc1"
   ]
  },
  {
   "cell_type": "markdown",
   "id": "353932e6",
   "metadata": {},
   "source": [
    "## Optimisation des hyperparamètres de la forêt"
   ]
  },
  {
   "cell_type": "markdown",
   "id": "665d2829",
   "metadata": {},
   "source": [
    "Afin d'optimiser notre modèle de forêt aléatoire, il est nécessaire de bien comprendre comment elles sont générées et les paramètres qui influent sur cette génération. Intéressons-nous désormais de plus près à notre modèle de forêt:\n",
    "\n",
    "Les forêts aléatoires sont composées (comme le terme \"forêt\" l'indique) d'un ensemble d'arbres décisionnels. Ces arbres se distinguent les uns des autres par le sous-échantillon de données sur lequel ils sont entraînés. Ces sous-échantillons sont tirés au hasard (d'où le terme \"aléatoire\") dans le jeu de données initial. Il y a deux niveaux de hasard : un Bootstrapping avec remise au niveau de l’echantillon d’apprentissage, et un tirage aléatoire des variables explicative par les variables qui interviennent dans le modele.\n",
    "\n",
    "Par conséquent, il est logique de remarquer que la fonction randomForest peut prendre en entrée plusieurs hyperparamètres qui influencent le modèle en sortie. Parmi eux:\n",
    "\n",
    "**ntree :** Nombre d'arbres décisionnels à considérer. Il ne doit pas être trop petit pour s'assurer que chaque ligne (individu) est prédite au moins plusieurs fois.\n",
    "\n",
    "**mtry :** Nombre de variables tirées aléatoirement à chaque coupe. \n",
    "\n",
    "**nodesize :** Taille minimum des noeuds terminaux. Une valeur élevée implique des arbres créés plus petits (et donc une vitesse de calcul plus rapide).\n",
    "\n",
    "Un remarque importante pour la suite (optimisation des hyperparamètres): il est possible de prouver, en se basant sur la loi faible des grands nombres, que l'erreur moyenne décroit stochastiquement avec le nombre **ntree** d'arbres décisionnels dans la forêt.\n",
    "\n",
    "En effet, intuitivement: les arbres d'une forêt aléatoire sont indépendants et identiquement distribués. Les arbres sont distribués de manière identique car chaque arbre est créé à l'aide d'une stratégie de randomisation répétée identiquement pour chaque arbre : Boot-strap sur les données d'apprentissage, puis création de chaque arbre en choisissant la meilleure coupe pour une variable parmi les $m$ variables sélectionnées pour le noeud. Dans l'algorithme de forêt aléatoire, les arbres sont créés sur leur propre sous-échantillon bootstrap sans tenir compte des autres arbres, ils peuvent donc être considérés comme indépendants. (C'est d'ailleurs en ce sens que l'algorithme de la forêt aléatoire est \"embarassingly parallel\": on peut paralléliser la construction des arbres car chaque arbre est créé indépendamment, et c'est bien grâce au calcul parallèle que les algorithmes que l'on utilise permettent de retourner des résultats en temps raisonnable). \n",
    "\n",
    "Dans le cas d'une classification binaire (notre cas), la loi faible des grands nombres s'applique car les arbres sont indépendants et identiquement distribués et que la variable à prédire (**class**) possède une variance finie (en temps que variable binaire à valeur dans {$0$,$1$}).\n",
    "\n",
    "L'application de la loi faible des grands nombres dans ce cas implique que, pour chaque échantillon, l'ensemble va tendre vers une valeur moyenne particulière de prédiction pour cet échantillon lorsque le nombre d'arbres **ntree** tend vers l'infini. De plus, pour un ensemble d'échantillons donnés, une statistique qui nous intéresse sur ces échantillons convergera vers une valeur moyenne lorsque le nombre d'arbres **ntree** tend vers l'infini.\n",
    "\n",
    "On pourrait penser qu'augmenter **ntree** pourrait causer le sur-apprentissage, mais en réalité il est prouvé que ce n'est pas le cas. Par contre, les autres hyperparamètres (**mtry** et **nodesize**) jouent sur l'over-fitting.\n",
    "\n",
    "Dès lors, il est inutile d'essayer d'optimiser le paramètre **ntree**, il faut simplement le prendre suffisamment grand pour assurer la convergence de l'erreur.\n",
    "\n",
    "Afin d'optimiser notre modèle, nous allons prendre un **ntree** assez grand, puis jouer sur les autres hyperparamètres (**mtry** et **nodesize**) pour obtenir une forêt haute performance. Pour cela, nous nous appuyons sur les librairies **mlr** et **caret** :"
   ]
  },
  {
   "cell_type": "code",
   "execution_count": 9,
   "id": "3b1692db",
   "metadata": {},
   "outputs": [],
   "source": [
    "library(caret)\n",
    "library(mlr)"
   ]
  },
  {
   "cell_type": "markdown",
   "id": "a1528f20",
   "metadata": {},
   "source": [
    "La façon de procéder pour sélectionner les hyperparamètres optimaux repose sur la validation croisée. Pour chaque set d'hyperparamètres, on réalise une cross-validation sur nos données train pour avoir une idée du caractère prédictif de la forêt sur des données nouvelles. Nous avons notamment utilisé cette méthode pour trouver les hyperparamètres optimaux pour la fonction **rpart** dans le TP Arbres de Décisions.\n",
    "\n",
    "Seulement, nous sommes ici dans un cas plus volumineux avec les forêts aléatoires. En effet, les plages de valeurs prises par les hyperparamètres sur lesquels nous voulons jouer sont larges, et le temps de calcul pour générer chaque forêt est plus conséquence, par conséquent une recherche exhaustive de type **grid-search** peut prendre beaucoup de temps. A la place, on peut considérer une méthode stochastique de type **random-search**: nous allons tirer au hasard un certain nombre fixé de sets d'hyperparamètres à tester puis sélectionner le meilleur d'entre eux à la suite des résultat de la validation croisée.\n",
    "\n",
    "Nous proposons les deux implémentations ci-dessous, nous avons aupravant utilisé la méthode exhaustive **grid-search** sur le TP Arbres de Décisions, mais ici nous utilisons la méthode stochastique **random-search** pour alléger le temps de calcul."
   ]
  },
  {
   "cell_type": "code",
   "execution_count": 449,
   "id": "df702c5e",
   "metadata": {},
   "outputs": [],
   "source": [
    "set.seed(1234)\n",
    "d.tree.mlr <- makeClassifTask(\n",
    "  data=train, \n",
    "  target=\"class\")\n",
    "\n",
    "# Méthode de controle: random-search avec 300 triplets d'hyperparamètres tirés aléatoirement parmi les plages possibles\n",
    "control_random=makeTuneControlRandom(maxit = 300L)\n",
    "\n",
    "# Méthode de controle exhaustive: grid-search avec tous les triplets d'hyperparamètres dans les plages possibles\n",
    "# Donnée en commentaire mais non utilisée ici\n",
    "#control <- trainControl(method=\"repeatedcv\", number=10, repeats=3)\n",
    "#control_grid = makeTuneControlGrid()\n",
    "\n",
    "# Méthode de validation: cross-validation à 7 blocs\n",
    "resample = makeResampleDesc(\"CV\", iters = 7L)\n",
    "\n",
    "# Mesure à considérer: la précision des prédictions\n",
    "measure = acc\n",
    "\n",
    "# Hyperparamètres à considérer et leur plages de valeurs\n",
    "param_grid_multi <- makeParamSet( \n",
    "  makeDiscreteParam(\"mtry\", values=1:30),\n",
    "  makeDiscreteParam(\"nodesize\", values=1:40),\n",
    "  makeDiscreteParam(\"ntree\", values=500:500)\n",
    "    \n",
    ")"
   ]
  },
  {
   "cell_type": "code",
   "execution_count": 137,
   "id": "7863926b",
   "metadata": {},
   "outputs": [
    {
     "data": {
      "text/plain": [
       "Tune result:\n",
       "Op. pars: mtry=5; nodesize=14; ntree=500\n",
       "acc.test.mean=0.9227891"
      ]
     },
     "metadata": {},
     "output_type": "display_data"
    }
   ],
   "source": [
    "dt_tuneparam_multi <- tuneParams(learner='classif.randomForest', \n",
    "                                 task=d.tree.mlr, \n",
    "                                 resampling = resample,\n",
    "                                 measures = measure,\n",
    "                                 par.set=param_grid_multi, \n",
    "                                 control=control_random, \n",
    "                                 show.info = FALSE)\n",
    "dt_tuneparam_multi"
   ]
  },
  {
   "cell_type": "markdown",
   "id": "b7eca264",
   "metadata": {},
   "source": [
    "Testons notre modèle avec les hyperparamètres optimisés:"
   ]
  },
  {
   "cell_type": "code",
   "execution_count": 428,
   "id": "95f0ee7b",
   "metadata": {},
   "outputs": [
    {
     "data": {
      "text/html": [
       "0.980952380952381"
      ],
      "text/latex": [
       "0.980952380952381"
      ],
      "text/markdown": [
       "0.980952380952381"
      ],
      "text/plain": [
       "[1] 0.9809524"
      ]
     },
     "metadata": {},
     "output_type": "display_data"
    }
   ],
   "source": [
    "rf2 <- randomForest(as.factor(class) ~ .,ntree=500,mtry=5,nodesize=14,data=train)\n",
    "p2=predict(rf2,test)\n",
    "accuracy(test$class, p2)"
   ]
  },
  {
   "cell_type": "markdown",
   "id": "3cba58d5",
   "metadata": {},
   "source": [
    "Cela signifie qu'avec ce modèle, 98% des individus de l'ensemble test ont bien été classifiés. Construisons la matrice de confusion :"
   ]
  },
  {
   "cell_type": "code",
   "execution_count": 429,
   "id": "993f3b6b",
   "metadata": {},
   "outputs": [
    {
     "data": {
      "text/plain": [
       "         Actual\n",
       "Predicted  b  g\n",
       "        b 42  2\n",
       "        g  0 61"
      ]
     },
     "metadata": {},
     "output_type": "display_data"
    }
   ],
   "source": [
    "mc2 <- table(Predicted = p2, Actual = test$class)\n",
    "mc2"
   ]
  },
  {
   "cell_type": "markdown",
   "id": "30aec8a1",
   "metadata": {},
   "source": [
    "2 individus tests on été mal prédits. Les deux sont en réalité \"good\" et ont été prédits comme étant \"bad\"."
   ]
  },
  {
   "cell_type": "markdown",
   "id": "c455eba4",
   "metadata": {},
   "source": [
    "**Remarque:** Afin de construire ce modèle, nous nous sommes basées sur la cross-validation car c'est une méthode de validation plus robustes vis-à-vis de la fluctuation dues au hasard et aux échantillons. Si, dans une optique \"challenge\", l'on souhaite uniquement augmenter l'accuracy sur notre ensemble test sans nous intéresser à la robustesse du modèle, le hasard peut jouer en notre faveur. En prenant un nombre **ntree** petit, les variations dûes au hasard autour de la valeur de convergence sont élevées, et on peut arriver à un score d'accuracy meilleur en cas de fluctuation favorable.\n",
    "\n",
    "Mais cela n'a pas réellement de fondement autre que le hasard, il faut préférer un modèle avec **ntree** grand pour assurer la convergence de l'erreur et ne pas reposer sur un cas particulier si l'on souhaite généraliser le modèle.\n",
    "\n",
    "On présente un tel modèle à erreur fluctuante qui, par hasard, fournit une précision supérieure du fait de l'aléatoire (l'erreur est fluctuente et le modèle peut donner des précisions variables, puisque **ntree** est petit il n'y a pas convergence comme expliqué plus haut):"
   ]
  },
  {
   "cell_type": "code",
   "execution_count": 431,
   "id": "57359b82",
   "metadata": {},
   "outputs": [
    {
     "data": {
      "text/html": [
       "0.990476190476191"
      ],
      "text/latex": [
       "0.990476190476191"
      ],
      "text/markdown": [
       "0.990476190476191"
      ],
      "text/plain": [
       "[1] 0.9904762"
      ]
     },
     "metadata": {},
     "output_type": "display_data"
    }
   ],
   "source": [
    "rf3 <- randomForest(as.factor(class) ~ .,mtry=5,ntree=12,nodesize=1,data=train)\n",
    "p3=predict(rf3,test)\n",
    "accuracy(test$class, p3)"
   ]
  },
  {
   "cell_type": "markdown",
   "id": "7f18fa50",
   "metadata": {},
   "source": [
    "Construisons la matrice de confusion associée:"
   ]
  },
  {
   "cell_type": "code",
   "execution_count": 432,
   "id": "be556c83",
   "metadata": {},
   "outputs": [
    {
     "data": {
      "text/plain": [
       "         Actual\n",
       "Predicted  b  g\n",
       "        b 42  1\n",
       "        g  0 62"
      ]
     },
     "metadata": {},
     "output_type": "display_data"
    }
   ],
   "source": [
    "mc3 <- table(Predicted = p3, Actual = test$class)\n",
    "mc3"
   ]
  },
  {
   "cell_type": "markdown",
   "id": "34402416",
   "metadata": {},
   "source": [
    "Un unique individu test a été mal prédit (réalité: good, prédit: bad)."
   ]
  },
  {
   "cell_type": "markdown",
   "id": "91a5c437",
   "metadata": {},
   "source": [
    "# Détection des anomalies avec une forêt d'isolement"
   ]
  },
  {
   "cell_type": "markdown",
   "id": "c8e8558d",
   "metadata": {},
   "source": [
    "L'algorithme des forêts d’isolement permet de calculer un score d’anomalie, c'est-à-dire une mesure qui reflète à quel point une donnée peut être considérer comme atypique. Afin de calculer ce score, l’algorithme isole la donnée en question de manière récursive : il choisit aléatoirement une variable puis sélectionne un “seuil de coupure”, puis il évalue si cela permet d’isoler la donnée en question ; si tel est le cas, l’algorithme s’arrête, sinon il choisit une autre variable et un autre seuil de coupure, et ainsi de suite jusqu’à ce que la donnée soit isolée du reste."
   ]
  },
  {
   "cell_type": "markdown",
   "id": "dc5ac0f9",
   "metadata": {},
   "source": [
    "On s'appuie sur la librairie IsolationForest:"
   ]
  },
  {
   "cell_type": "code",
   "execution_count": 10,
   "id": "761b4e3b",
   "metadata": {},
   "outputs": [
    {
     "name": "stdout",
     "output_type": "stream",
     "text": [
      "IsolationForest 0.0-26 \n"
     ]
    }
   ],
   "source": [
    "library(IsolationForest)"
   ]
  },
  {
   "cell_type": "markdown",
   "id": "a4d70126",
   "metadata": {},
   "source": [
    "## Forêt d'isolement non paramétrée"
   ]
  },
  {
   "cell_type": "markdown",
   "id": "57e6add3",
   "metadata": {},
   "source": [
    "On construit une forêt d'isolement avec les hyperparamètres par défaut:\n",
    "\n",
    "**num_trees**=100 : nombre d'arbres construits dans la forêt.\n",
    "\n",
    "**nRowSamp**=nrow(train) : taille du sous-échantillon, doit être inférieure ou égale à la taille de l'échantillon train.\n",
    "\n",
    "**rFactor**=1 : facteur de randomisation, variant de 0 (déterminisme total) à 1 (aléatoire total).\n",
    "\n",
    "**hlim**=(ceiling(log2(nrow(train))) : limite de la hauteur maximale de la forêt.\n",
    "\n",
    "**nmin**= 1 : nombre minimum d'échantillons pour former un noeud terminal.\n"
   ]
  },
  {
   "cell_type": "code",
   "execution_count": 11,
   "id": "8539583e",
   "metadata": {},
   "outputs": [],
   "source": [
    "set.seed(1234)\n",
    "\n",
    "iso <- IsolationTrees(train)\n",
    "\n",
    "# calcul des scores d'anomalie des données test \n",
    "anomaly_scores <- AnomalyScore(test, iso)$outF"
   ]
  },
  {
   "cell_type": "markdown",
   "id": "dee5536e",
   "metadata": {},
   "source": [
    "Les indices des observations avec les 5 plus hauts scores d'anomalie sont les suivants:"
   ]
  },
  {
   "cell_type": "code",
   "execution_count": 12,
   "id": "a0a32243",
   "metadata": {},
   "outputs": [
    {
     "data": {
      "text/html": [
       "<style>\n",
       ".list-inline {list-style: none; margin:0; padding: 0}\n",
       ".list-inline>li {display: inline-block}\n",
       ".list-inline>li:not(:last-child)::after {content: \"\\00b7\"; padding: 0 .5ex}\n",
       "</style>\n",
       "<ol class=list-inline><li>10</li><li>26</li><li>76</li><li>20</li><li>21</li></ol>\n"
      ],
      "text/latex": [
       "\\begin{enumerate*}\n",
       "\\item 10\n",
       "\\item 26\n",
       "\\item 76\n",
       "\\item 20\n",
       "\\item 21\n",
       "\\end{enumerate*}\n"
      ],
      "text/markdown": [
       "1. 10\n",
       "2. 26\n",
       "3. 76\n",
       "4. 20\n",
       "5. 21\n",
       "\n",
       "\n"
      ],
      "text/plain": [
       "[1] 10 26 76 20 21"
      ]
     },
     "metadata": {},
     "output_type": "display_data"
    }
   ],
   "source": [
    "hauts_scores_indices <- order(anomaly_scores, decreasing=T)\n",
    "hauts_scores_indices[1:5]"
   ]
  },
  {
   "cell_type": "markdown",
   "id": "bf0bdd61",
   "metadata": {},
   "source": [
    "Ces indices sont les indices des individus en tant qu'éléments de la liste **test**, retrouvons les indices de base (en tant qu'élément du dataset d'origine) de ces individus:"
   ]
  },
  {
   "cell_type": "code",
   "execution_count": 14,
   "id": "fbd4fdef",
   "metadata": {},
   "outputs": [],
   "source": [
    "library(rlist)"
   ]
  },
  {
   "cell_type": "code",
   "execution_count": 16,
   "id": "27de2125",
   "metadata": {},
   "outputs": [
    {
     "data": {
      "text/html": [
       "<table class=\"dataframe\">\n",
       "<caption>A matrix: 1 × 5</caption>\n",
       "<tbody>\n",
       "\t<tr><td>18</td><td>78</td><td>233</td><td>54</td><td>56</td></tr>\n",
       "</tbody>\n",
       "</table>\n"
      ],
      "text/latex": [
       "A matrix: 1 × 5\n",
       "\\begin{tabular}{lllll}\n",
       "\t 18 & 78 & 233 & 54 & 56\\\\\n",
       "\\end{tabular}\n"
      ],
      "text/markdown": [
       "\n",
       "A matrix: 1 × 5\n",
       "\n",
       "| 18 | 78 | 233 | 54 | 56 |\n",
       "\n"
      ],
      "text/plain": [
       "     [,1] [,2] [,3] [,4] [,5]\n",
       "[1,] 18   78   233  54   56  "
      ]
     },
     "metadata": {},
     "output_type": "display_data"
    }
   ],
   "source": [
    "ind <- 1:351\n",
    "index_test=ind[!ind %in% index]\n",
    "li=list()\n",
    "for (j in hauts_scores_indices[1:5]) {\n",
    "  li[length(li)+1]=index_test[j]\n",
    "}\n",
    "t(li)"
   ]
  },
  {
   "cell_type": "markdown",
   "id": "a2e5d0fa",
   "metadata": {},
   "source": [
    "Les scores des anomalies associées sont respectivement :"
   ]
  },
  {
   "cell_type": "code",
   "execution_count": 17,
   "id": "bf082af1",
   "metadata": {},
   "outputs": [
    {
     "data": {
      "text/html": [
       "<style>\n",
       ".list-inline {list-style: none; margin:0; padding: 0}\n",
       ".list-inline>li {display: inline-block}\n",
       ".list-inline>li:not(:last-child)::after {content: \"\\00b7\"; padding: 0 .5ex}\n",
       "</style>\n",
       "<ol class=list-inline><li>0.690986387736716</li><li>0.677239204205587</li><li>0.660860545942482</li><li>0.659016724721649</li><li>0.658379724467345</li></ol>\n"
      ],
      "text/latex": [
       "\\begin{enumerate*}\n",
       "\\item 0.690986387736716\n",
       "\\item 0.677239204205587\n",
       "\\item 0.660860545942482\n",
       "\\item 0.659016724721649\n",
       "\\item 0.658379724467345\n",
       "\\end{enumerate*}\n"
      ],
      "text/markdown": [
       "1. 0.690986387736716\n",
       "2. 0.677239204205587\n",
       "3. 0.660860545942482\n",
       "4. 0.659016724721649\n",
       "5. 0.658379724467345\n",
       "\n",
       "\n"
      ],
      "text/plain": [
       "[1] 0.6909864 0.6772392 0.6608605 0.6590167 0.6583797"
      ]
     },
     "metadata": {},
     "output_type": "display_data"
    }
   ],
   "source": [
    "anomaly_scores[hauts_scores_indices[1:5]]"
   ]
  },
  {
   "cell_type": "markdown",
   "id": "c0a52e4f",
   "metadata": {},
   "source": [
    "Les indices des observations avec les 5 plus bas scores d'anomalie sont les suivants:"
   ]
  },
  {
   "cell_type": "code",
   "execution_count": 18,
   "id": "d2569b2c",
   "metadata": {},
   "outputs": [
    {
     "data": {
      "text/html": [
       "<style>\n",
       ".list-inline {list-style: none; margin:0; padding: 0}\n",
       ".list-inline>li {display: inline-block}\n",
       ".list-inline>li:not(:last-child)::after {content: \"\\00b7\"; padding: 0 .5ex}\n",
       "</style>\n",
       "<ol class=list-inline><li>48</li><li>89</li><li>98</li><li>99</li><li>77</li></ol>\n"
      ],
      "text/latex": [
       "\\begin{enumerate*}\n",
       "\\item 48\n",
       "\\item 89\n",
       "\\item 98\n",
       "\\item 99\n",
       "\\item 77\n",
       "\\end{enumerate*}\n"
      ],
      "text/markdown": [
       "1. 48\n",
       "2. 89\n",
       "3. 98\n",
       "4. 99\n",
       "5. 77\n",
       "\n",
       "\n"
      ],
      "text/plain": [
       "[1] 48 89 98 99 77"
      ]
     },
     "metadata": {},
     "output_type": "display_data"
    }
   ],
   "source": [
    "bas_scores_indices <- order(anomaly_scores, decreasing=F)\n",
    "bas_scores_indices[1:5]"
   ]
  },
  {
   "cell_type": "markdown",
   "id": "ce1766cf",
   "metadata": {},
   "source": [
    "Ces indices sont les indices des individus en tant qu'éléments de la liste **test**, retrouvons les indices de base (en tant qu'élément du dataset d'origine) de ces individus:"
   ]
  },
  {
   "cell_type": "code",
   "execution_count": 19,
   "id": "c7a656af",
   "metadata": {},
   "outputs": [
    {
     "data": {
      "text/html": [
       "<table class=\"dataframe\">\n",
       "<caption>A matrix: 1 × 5</caption>\n",
       "<tbody>\n",
       "\t<tr><td>162</td><td>294</td><td>331</td><td>332</td><td>238</td></tr>\n",
       "</tbody>\n",
       "</table>\n"
      ],
      "text/latex": [
       "A matrix: 1 × 5\n",
       "\\begin{tabular}{lllll}\n",
       "\t 162 & 294 & 331 & 332 & 238\\\\\n",
       "\\end{tabular}\n"
      ],
      "text/markdown": [
       "\n",
       "A matrix: 1 × 5\n",
       "\n",
       "| 162 | 294 | 331 | 332 | 238 |\n",
       "\n"
      ],
      "text/plain": [
       "     [,1] [,2] [,3] [,4] [,5]\n",
       "[1,] 162  294  331  332  238 "
      ]
     },
     "metadata": {},
     "output_type": "display_data"
    }
   ],
   "source": [
    "li=list()\n",
    "for (j in bas_scores_indices[1:5]) {\n",
    "  li[length(li)+1]=index_test[j]\n",
    "}\n",
    "t(li)"
   ]
  },
  {
   "cell_type": "markdown",
   "id": "0c312491",
   "metadata": {},
   "source": [
    "Les scores des anomalies associées sont respectivement :"
   ]
  },
  {
   "cell_type": "code",
   "execution_count": 20,
   "id": "d5b786f8",
   "metadata": {},
   "outputs": [
    {
     "data": {
      "text/html": [
       "<style>\n",
       ".list-inline {list-style: none; margin:0; padding: 0}\n",
       ".list-inline>li {display: inline-block}\n",
       ".list-inline>li:not(:last-child)::after {content: \"\\00b7\"; padding: 0 .5ex}\n",
       "</style>\n",
       "<ol class=list-inline><li>0.347659958916313</li><li>0.347659958916313</li><li>0.353009451140308</li><li>0.354174374012211</li><li>0.355698637942661</li></ol>\n"
      ],
      "text/latex": [
       "\\begin{enumerate*}\n",
       "\\item 0.347659958916313\n",
       "\\item 0.347659958916313\n",
       "\\item 0.353009451140308\n",
       "\\item 0.354174374012211\n",
       "\\item 0.355698637942661\n",
       "\\end{enumerate*}\n"
      ],
      "text/markdown": [
       "1. 0.347659958916313\n",
       "2. 0.347659958916313\n",
       "3. 0.353009451140308\n",
       "4. 0.354174374012211\n",
       "5. 0.355698637942661\n",
       "\n",
       "\n"
      ],
      "text/plain": [
       "[1] 0.3476600 0.3476600 0.3530095 0.3541744 0.3556986"
      ]
     },
     "metadata": {},
     "output_type": "display_data"
    }
   ],
   "source": [
    "anomaly_scores[bas_scores_indices[1:5]]"
   ]
  },
  {
   "cell_type": "markdown",
   "id": "e628207c",
   "metadata": {},
   "source": [
    "Seulement, une fois en possession de ces résultats, on ne peut comme dans les parties précédentes calculer un taux d'erreur ou de précision. La raison est simple: il s'agit ici d'un **modèle non supervisé**. En effet, nos données ne sont pas labelisées: on ne sait pas lesquels parmi elles sont effectivement des outliers.\n",
    "\n",
    "On peut cependant tout de même réaliser une sorte de vérification, proposons plusieurs méthodes:\n",
    "\n",
    "Une manière de faire serait d'extraire échantillon de taille raisonnable, calculer les scores anomalies sur cet échantillon, et demander à un expert de confirmer les résultats en labelisant cet échantillon par des moyens autres que statistiques: on tombe alors sur un modèle dit **semi-supervisé**. Malheureusement, nous ne disposons pas d'experts pour réaliser cette méthode dans notre cas.\n",
    "\n",
    "Une seconde méthode serait d'étudier la différence de la variance, de certaines variables, avec et sans les anomalies et choisir la combinaison d’hyperparamètres qui donne le plus grand nombre de variables avec une différence de variance statistiquement significative. En effet, le retrait des anomalies a forcément pour effet une diminution de la variance (écarts à la moyenne en général importants pour les outliers). Afin de mesurer si une différence de variance est statistiquement significative on se base sur une test d'ANOVA appelé **Fligner Killeen** (basé sur le test de **Levene**), qui teste l'hypothèse $H_0$ supposant que les variances de deux échantillons sont égales et fournit une **p-valeur**: si la p-valeur est inférieure à $0.05$, on peut conclure que le test est significatif et que les variances sont différentes. Essayons cette méthode de validation :"
   ]
  },
  {
   "cell_type": "code",
   "execution_count": 38,
   "id": "89e2f585",
   "metadata": {},
   "outputs": [],
   "source": [
    "set.seed(1234)\n",
    "iso1 <- IsolationTrees(train,ntree=500,hlim=200,nmin=5,rFactor=0,nRowSamp=3)\n",
    "anomaly_scores1 <- AnomalyScore(test, iso1)$outF\n",
    "hauts_scores_indices1 <- order(anomaly_scores1, decreasing=T)\n",
    "bas_scores_indices1 <- order(anomaly_scores1, decreasing=F)"
   ]
  },
  {
   "cell_type": "markdown",
   "id": "7330c3a0",
   "metadata": {},
   "source": [
    "Observons les p-valeur du test sur les variables avant et après avoir retiré les individus au plus haut score d'anomalie:"
   ]
  },
  {
   "cell_type": "code",
   "execution_count": 39,
   "id": "cd0d0699",
   "metadata": {},
   "outputs": [
    {
     "name": "stdout",
     "output_type": "stream",
     "text": [
      "[1] 0.1497913\n",
      "[1] 0.2811646\n",
      "[1] 0.2266602\n",
      "[1] 0.9243086\n",
      "[1] 0.4969533\n",
      "[1] 0.7474381\n",
      "[1] 0.172346\n",
      "[1] 0.6553336\n",
      "[1] 0.6429735\n",
      "[1] 0.3454602\n",
      "[1] 0.7574907\n",
      "[1] 0.7618899\n",
      "[1] 0.4997442\n",
      "[1] 0.8555822\n",
      "[1] 0.7142917\n",
      "[1] 0.372936\n",
      "[1] 0.591967\n",
      "[1] 0.7071677\n",
      "[1] 0.8659419\n",
      "[1] 0.9617319\n",
      "[1] 0.6819971\n",
      "[1] 0.9443135\n",
      "[1] 0.2523647\n",
      "[1] 0.2213158\n",
      "[1] 0.7440451\n",
      "[1] 0.5130427\n",
      "[1] 0.4763579\n",
      "[1] 0.3917741\n",
      "[1] 0.3831919\n",
      "[1] 0.295928\n",
      "[1] 0.8731856\n",
      "[1] 0.9578232\n"
     ]
    }
   ],
   "source": [
    "for (i in 1:32){\n",
    "  sample1=test[,i]\n",
    "  sample2=test[-hauts_scores_indices1[1:10],i]\n",
    "  y <- c(sample1, sample2)\n",
    "  group <- as.factor(c(rep(1, length(sample1)), rep(2, length(sample2))))\n",
    "  print(fligner.test(y,group)$p.value)\n",
    "}"
   ]
  },
  {
   "cell_type": "markdown",
   "id": "de6a0807",
   "metadata": {},
   "source": [
    "Aucune des p-valeur ne permet de conclure à une différence de variance significative."
   ]
  },
  {
   "cell_type": "markdown",
   "id": "4982eabe",
   "metadata": {},
   "source": [
    "Essayons une autre combinaison des hyperparamétres d'isolationTree qui est ntree=500,hlim=100,nmin=1,rFactor=1,nRowSamp=3 :"
   ]
  },
  {
   "cell_type": "code",
   "execution_count": 44,
   "id": "06251604",
   "metadata": {},
   "outputs": [],
   "source": [
    "set.seed(1234)\n",
    "iso2 <- IsolationTrees(train,ntree=500,hlim=100,nmin=5,rFactor=1,nRowSamp=3)\n",
    "anomaly_scores2 <- AnomalyScore(test, iso2)$outF\n",
    "hauts_scores_indices2 <- order(anomaly_scores2, decreasing=T)"
   ]
  },
  {
   "cell_type": "markdown",
   "id": "0f95aa3c",
   "metadata": {},
   "source": [
    "Au lieu de regarder les p-valeurs une par une, on écrit une fonction qui compte le nombre de variables observant une différence significative de variance après retrait des outliers:"
   ]
  },
  {
   "cell_type": "code",
   "execution_count": 45,
   "id": "762ac7c5",
   "metadata": {},
   "outputs": [
    {
     "name": "stdout",
     "output_type": "stream",
     "text": [
      "[1] 0\n"
     ]
    }
   ],
   "source": [
    "compteur<-function(){\n",
    "  cpt=0\n",
    "  for (i in 1:32)\n",
    "  {\n",
    "    sample1=test[-hauts_scores_indices2[1:10],i]\n",
    "    sample2=test[-hauts_scores_indices2[1:10],i]\n",
    "    y <- c(sample1, sample2)\n",
    "    group <- as.factor(c(rep(1, length(sample1)), rep(2, length(sample2))))\n",
    "    if (fligner.test(y,group)$p.value<0.05)\n",
    "    {cpt<-cpt+1}\n",
    "  }\n",
    "  print(cpt)}\n",
    "compteur()"
   ]
  },
  {
   "cell_type": "markdown",
   "id": "47568578",
   "metadata": {},
   "source": [
    "Encore une fois, le test statistique de différence de variance n'est pas significatif pour cette combinaison d'hyperparametres.\n",
    "\n",
    "On a essayé une cinquantaine de combinaison d'hyperparamètres diversifiées, et le test de flinger ne devient siginficatif que lorsqu'on enleve un nombre important d'observations (à peu prés 20%) ce qui n'est pas concluant car nous retirons alors plus que les possibles outliers."
   ]
  },
  {
   "cell_type": "markdown",
   "id": "5593e8da",
   "metadata": {},
   "source": [
    "La forêt d'isolement retire effectivement des individus et diminue la variance, pour s'en convaincre, observons la somme des differences des variances des variables aves et sans les observations aberrantes: "
   ]
  },
  {
   "cell_type": "code",
   "execution_count": 46,
   "id": "6b25c9f5",
   "metadata": {},
   "outputs": [
    {
     "data": {
      "text/html": [
       "1.3331077900871"
      ],
      "text/latex": [
       "1.3331077900871"
      ],
      "text/markdown": [
       "1.3331077900871"
      ],
      "text/plain": [
       "[1] 1.333108"
      ]
     },
     "metadata": {},
     "output_type": "display_data"
    },
    {
     "data": {
      "text/html": [
       "1.84226583138508"
      ],
      "text/latex": [
       "1.84226583138508"
      ],
      "text/markdown": [
       "1.84226583138508"
      ],
      "text/plain": [
       "[1] 1.842266"
      ]
     },
     "metadata": {},
     "output_type": "display_data"
    }
   ],
   "source": [
    "sum(sapply(test[1:32], var)-sapply(test[1:32][-hauts_scores_indices1[1:10],], var))\n",
    "sum(sapply(test[1:32], var)-sapply(test[1:32][-hauts_scores_indices2[1:10],], var))"
   ]
  },
  {
   "cell_type": "markdown",
   "id": "2a51e8e6",
   "metadata": {},
   "source": [
    "On voit bien une amélaioration, mais cette amélioration n'est pas significative et visible pour chaque variable une par une avec nos tests ANOVA (que ce soit le test de Flinger ou de Levene, issu de la librairie **car**).\n",
    "\n",
    "Une autre approche serait de comparer visuelement les distributions des variables qui nous semblent impactées par le retrait des outliers, en visualisant leur répartition avec et sans les observations aberrantes :"
   ]
  },
  {
   "cell_type": "code",
   "execution_count": 47,
   "id": "eeca1787",
   "metadata": {},
   "outputs": [
    {
     "data": {
      "image/png": "[encoded data removed]",
      "text/plain": [
       "Plot with title \"a03 sans outliers 1\""
      ]
     },
     "metadata": {
      "image/png": {
       "height": 420,
       "width": 420
      }
     },
     "output_type": "display_data"
    },
    {
     "data": {
      "image/png": "[encoded data removed]",
      "text/plain": [
       "Plot with title \"a18 sans outliers 1\""
      ]
     },
     "metadata": {
      "image/png": {
       "height": 420,
       "width": 420
      }
     },
     "output_type": "display_data"
    }
   ],
   "source": [
    "outliers1=hauts_scores_indices1[1:10]\n",
    "outliers2=hauts_scores_indices2[1:10]\n",
    "\n",
    "\n",
    "par(mfrow=c(2,2))\n",
    "hist(test$a01,main='a01')\n",
    "hist(test$a01[-outliers1],main='a01 sans outliers 1')\n",
    "hist(test$a03,main='a03')\n",
    "hist(test$a03[-outliers1],main='a03 sans outliers 1')\n",
    "par(mfrow=c(2,2))\n",
    "hist(test$a10,main='a10')\n",
    "hist(test$a10[-outliers1],main='a10 sans outliers 1')\n",
    "hist(test$a18,main='a18')\n",
    "hist(test$a18[-outliers1],main='a18 sans outliers 1')"
   ]
  },
  {
   "cell_type": "markdown",
   "id": "88823512",
   "metadata": {},
   "source": [
    "On voit bien que le retrait des outliers permet de légèrement diminuer la distribution sur les extrêmes ainsi qu'au centre, c'est cohérent du fait que les outliers sont souvent introduits par erreur et ont des valeurs bien souvent absurdes (maximale, minimale ou nulle). Observons cela pour les outliers issues du second set d'hyper-paramètres présenté:"
   ]
  },
  {
   "cell_type": "code",
   "execution_count": 48,
   "id": "200f0f29",
   "metadata": {},
   "outputs": [
    {
     "data": {
      "image/png": "[encoded data removed]",
      "text/plain": [
       "Plot with title \"a03 sans outliers 2\""
      ]
     },
     "metadata": {
      "image/png": {
       "height": 420,
       "width": 420
      }
     },
     "output_type": "display_data"
    },
    {
     "data": {
      "image/png": "[encoded data removed]",
      "text/plain": [
       "Plot with title \"a18 sans outliers 2\""
      ]
     },
     "metadata": {
      "image/png": {
       "height": 420,
       "width": 420
      }
     },
     "output_type": "display_data"
    }
   ],
   "source": [
    "par(mfrow=c(2,2))\n",
    "hist(test$a01,main='a01')\n",
    "hist(test$a01[-outliers2],main='a01 sans outliers 2')\n",
    "hist(test$a03,main='a03')\n",
    "hist(test$a03[-outliers2],main='a03 sans outliers 2')\n",
    "\n",
    "\n",
    "par(mfrow=c(2,2))\n",
    "hist(test$a10,main='a10')\n",
    "hist(test$a10[-outliers2],main='a10 sans outliers 2')\n",
    "hist(test$a18,main='a18')\n",
    "hist(test$a18[-outliers2],main='a18 sans outliers 2')"
   ]
  },
  {
   "cell_type": "markdown",
   "id": "e083edd2",
   "metadata": {},
   "source": [
    "Même constat que précédemment, on remarque que qu'il ya une difference legere entre les distributions de ces 4 variables avec et sans outliers au centre et aux extrêmes. Mais cela reste une comparaison visuelle, qui ne suffit pas réellement pour valider le modele lorsque les test statistiques ne sont pas significatifs dans ce contexte et permet encore moins de juger quels hyperparamètres sont les plus efficaces et de sélectionner les hyperparamètres optimaux.\n",
    "\n",
    "Finalement, on se rend compte de la difficulté de superviser un modèle qui par définition est **non supervisé**, surtout lorsque les tests statistiques ne sont pas significatifs. Enfin, tentons une dernière approche pour motiver le choix des hyperparamètres de notre forêt."
   ]
  },
  {
   "cell_type": "markdown",
   "id": "1fddac97",
   "metadata": {},
   "source": [
    "\n",
    "Une autre manière de faire repose sur l'ACP. En effet, la projection sur le premier plan factoriel de nos données permet souvent de remarquer à vue d'oeil les données dites \"aberrantes\". On désigne alors ici par données \"aberrantes\" des données qui, bien que correctement représentées par les deux premières composantes principales (elles suivent donc le même \"modèle\" que le reste des individus), possèdent des valeurs dans les extrêmes. Pour comprendre ce concept simplement, on peut donner l'exemple simple d'un set d'individus décrits par deux variables \"poids\" et \"taille\". En supposant dans le cas le plus simple que le poids est une fonction affine de la taille, tous les être humains seront sur une droite qui sera décrite par le premier axe factoriel. Un homme extrêmement grand sera alors correctement projeté sur ce plan, mais apparaîtra dans les valeurs extrêmes pour cette composante. C'est ce que l'on désigne par des données aberrantes **extrêmes**.\n",
    "\n",
    "On verra dans la suite que cette définition des données aberrantes est limitée, car en réalité, il y a un autre type de données que l'on pourrait considérer comme aberrantes: les données qui ne suivent pas du tout le même modèle que les autres, et qui seront donc par conséquent mal représentés par les premières composantes principales de l'ACP. Si l'on reprend notre exemple simple du paragraphe précédent, ce serait alors le cas si l'on avait un set de valeurs issues de mesures faites sur un animal (par exemple une souris), alors que les autres individus sont humains. Il sera donc mal projeté sur les premières composantes principales, et aller chercher ces individus mal projeté est une manière de faire pour détecter ce type d'outliers \"non conformes au modèle\" via l'ACP. On étudiera cette méthode dans la partie suivante.\n",
    "\n",
    "Pour l'instant, on se limitera à représenter dans le premier plan factoriel les outliers détectés par notre forêt d'isolement, en espérant qu'ils soient effectivement des outliers \"aux valeurs extrêmes\" (et qui seront donc isolés sur le premier plan factoriel).\n",
    "\n",
    "Réalisons donc l'ACP:"
   ]
  },
  {
   "cell_type": "code",
   "execution_count": 51,
   "id": "babc3245",
   "metadata": {},
   "outputs": [],
   "source": [
    "library(ade4)\n",
    "library(rgl)\n",
    "acp <- dudi.pca(test[,-33], center = T,scannf=FALSE, nf=3)"
   ]
  },
  {
   "cell_type": "code",
   "execution_count": 81,
   "id": "fbffacb6",
   "metadata": {},
   "outputs": [
    {
     "data": {
      "image/png": "[encoded data removed]",
      "text/plain": [
       "plot without title"
      ]
     },
     "metadata": {
      "image/png": {
       "height": 420,
       "width": 420
      }
     },
     "output_type": "display_data"
    }
   ],
   "source": [
    "couleurs <- rep(rainbow(5)[4], nrow(test))\n",
    "couleurs[hauts_scores_indices[1:5]] <- rainbow(5)[1]\n",
    "couleurs[bas_scores_indices[1:5]] <- rainbow(5)[3]\n",
    "plot(acp$li$Axis1, acp$li$Axis2, col = couleurs)"
   ]
  },
  {
   "cell_type": "markdown",
   "id": "3dc7f5bb",
   "metadata": {},
   "source": [
    "En rouge sont représentées les 5 observations avec les plus hauts scores d'anomalie, que l'on considère comme outliers. On remarque que 3 des observations parmi les 5 sélectionnées comme outliers semblent effectivement isolées sur le 1er plan factoriel. Le fait que des supposés outliers soit situé plus au centre que les autres peut signifier qu'ils présentent un comportement isolé sur d'autres composantes factoriels que les deux premières, ou que notre modèle de forêt d'isolement n'est pas correctement paramétré pour nos données.\n",
    "\n",
    "En vert sont représentées les 5 observations avec les plus bas scores d'anomalie, on remarque qu'elles sont regroupées avec une grande partie des observation dans un cluster."
   ]
  },
  {
   "cell_type": "markdown",
   "id": "e83f2491",
   "metadata": {},
   "source": [
    "Remarquons que le choix du seuil des 5 observations pour les considérés comme outlier est arbitraire, c'est là à nouveau un paramètre à modifier pour l'adapter à nos données. Souvent, on utilise un taux appelé **contamination rate** entre $0$ et $1$ qui donne le pourcentage des observations ayant les plus hauts scores d'anomalies que l'on choisit de considérer comme outliers."
   ]
  },
  {
   "cell_type": "markdown",
   "id": "a814d0a2",
   "metadata": {},
   "source": [
    "Une autre façon de conforter nos résultats repose sur l'analyse et la comparaison de la variance des observations sur les composantes principales avant et après avoir retirer les outliers."
   ]
  },
  {
   "cell_type": "markdown",
   "id": "4b80d837",
   "metadata": {},
   "source": [
    "Avant de retirer les outliers, on a les variances suivantes sur les deux premières composantes principales:"
   ]
  },
  {
   "cell_type": "code",
   "execution_count": 52,
   "id": "1c3b64f0",
   "metadata": {},
   "outputs": [
    {
     "data": {
      "text/html": [
       "8.50719290149094"
      ],
      "text/latex": [
       "8.50719290149094"
      ],
      "text/markdown": [
       "8.50719290149094"
      ],
      "text/plain": [
       "[1] 8.507193"
      ]
     },
     "metadata": {},
     "output_type": "display_data"
    },
    {
     "data": {
      "text/html": [
       "3.42185672978941"
      ],
      "text/latex": [
       "3.42185672978941"
      ],
      "text/markdown": [
       "3.42185672978941"
      ],
      "text/plain": [
       "[1] 3.421857"
      ]
     },
     "metadata": {},
     "output_type": "display_data"
    }
   ],
   "source": [
    "var(acp$li$Axis1)\n",
    "var(acp$li$Axis2)"
   ]
  },
  {
   "cell_type": "markdown",
   "id": "d93cf8d3",
   "metadata": {},
   "source": [
    "Après avoir retiré les outliers, on a les variances suivantes sur les deux premières composantes principales:"
   ]
  },
  {
   "cell_type": "code",
   "execution_count": 53,
   "id": "ff1fed54",
   "metadata": {},
   "outputs": [
    {
     "data": {
      "text/html": [
       "7.9622278664635"
      ],
      "text/latex": [
       "7.9622278664635"
      ],
      "text/markdown": [
       "7.9622278664635"
      ],
      "text/plain": [
       "[1] 7.962228"
      ]
     },
     "metadata": {},
     "output_type": "display_data"
    },
    {
     "data": {
      "text/html": [
       "3.31841242410023"
      ],
      "text/latex": [
       "3.31841242410023"
      ],
      "text/markdown": [
       "3.31841242410023"
      ],
      "text/plain": [
       "[1] 3.318412"
      ]
     },
     "metadata": {},
     "output_type": "display_data"
    }
   ],
   "source": [
    "var(acp$li$Axis1[-hauts_scores_indices[1:5]])\n",
    "var(acp$li$Axis2[-hauts_scores_indices[1:5]])"
   ]
  },
  {
   "cell_type": "code",
   "execution_count": 55,
   "id": "d27595af",
   "metadata": {},
   "outputs": [
    {
     "data": {
      "text/plain": [
       "\n",
       "\tFligner-Killeen test of homogeneity of variances\n",
       "\n",
       "data:  y and group\n",
       "Fligner-Killeen:med chi-squared = 0.014963, df = 1, p-value = 0.9026\n"
      ]
     },
     "metadata": {},
     "output_type": "display_data"
    }
   ],
   "source": [
    "sample1=acp$li$Axis1[-hauts_scores_indices[1:5]]\n",
    "sample2=acp$li$Axis1\n",
    "y <- c(sample1, sample2)\n",
    "group <- as.factor(c(rep(1, length(sample1)), rep(2, length(sample2))))\n",
    "fligner.test(y,group)"
   ]
  },
  {
   "cell_type": "code",
   "execution_count": 56,
   "id": "2ef61269",
   "metadata": {},
   "outputs": [
    {
     "data": {
      "text/plain": [
       "\n",
       "\tFligner-Killeen test of homogeneity of variances\n",
       "\n",
       "data:  y and group\n",
       "Fligner-Killeen:med chi-squared = 0.081151, df = 1, p-value = 0.7757\n"
      ]
     },
     "metadata": {},
     "output_type": "display_data"
    }
   ],
   "source": [
    "sample1=acp$li$Axis2[-hauts_scores_indices[1:5]]\n",
    "sample2=acp$li$Axis2\n",
    "y <- c(sample1, sample2)\n",
    "group <- as.factor(c(rep(1, length(sample1)), rep(2, length(sample2))))\n",
    "fligner.test(y,group)"
   ]
  },
  {
   "cell_type": "markdown",
   "id": "717c08ef",
   "metadata": {},
   "source": [
    "On observe donc que la variance diminue  après avoir retiré les outliers. Par exemple, la baisse en pourcentage sur la 2ème composante est due au fait que l'on a considéré comme outlier le point le plus extrémal sur l'axe $y$ dans le premier plan factoriel comme on a vu sur la projection. Néanmoins, bien que les p-valeurs soient plus représentatives que dans l'étude sans ACP, elles ne sont toujours pas sous le seuil significatif des $0,5$.\n",
    "\n",
    "Cela conforte notre résultat du fait que souvent, les données dites \"aberrantes\" augmentent la variance en se situant sur des extrêmes. Néanmoins, ce modèle ne semble pas assez adapté à nos données du fait de la p-valeur, essayons d'optimiser les hyperparamètres avec cette méthode."
   ]
  },
  {
   "cell_type": "markdown",
   "id": "080d5224",
   "metadata": {},
   "source": [
    "## Modification des hyperparamètres pour s'adapter à nos données"
   ]
  },
  {
   "cell_type": "markdown",
   "id": "403a1af6",
   "metadata": {},
   "source": [
    "Bien qu'il s'agisse d'un modèle non supervisé, les différentes méthodes de validations décrites plus tôt nous pousse à nous intéresser aux hyperparamètres que l'algorithme des forêts d'isolement prend en entrée pour adapter le modèle au mieux à nos données.\n",
    "\n",
    "Rappelons les différents hyperparamètres et leur role dans la construction de la forêt:\n",
    "\n",
    "**num_trees**: nombre d'arbres construits dans la forêt.\n",
    "\n",
    "**nRowSamp**=: taille du sous-échantillon, doit être inférieure ou égale à la taille de l'échantillon train.\n",
    "\n",
    "**rFactor**=1 : facteur de randomisation, variant de 0 (déterminisme total) à 1 (aléatoire total).\n",
    "\n",
    "**hlim** : limite de la hauteur maximale de la forêt.\n",
    "\n",
    "**nmin** : nombre minimum d'échantillons pour former un noeud terminal."
   ]
  },
  {
   "cell_type": "markdown",
   "id": "4f3f6758",
   "metadata": {},
   "source": [
    "Observons le comportement lorsque nous réduisons **num_tree** et **hlim**:"
   ]
  },
  {
   "cell_type": "code",
   "execution_count": 58,
   "id": "3ca3e626",
   "metadata": {},
   "outputs": [],
   "source": [
    "set.seed(1234)\n",
    "\n",
    "iso <- IsolationTrees(x=train,ntree=10,hlim=3)\n",
    "\n",
    "# calcul des scores d'anomalie des données test\n",
    "anomaly_scores <- AnomalyScore(test, iso)$outF\n",
    "\n",
    "# observations avec les plus hauts scores d'anomalies et les plus bas scores\n",
    "hauts_scores_indices <- order(anomaly_scores, decreasing=T)\n",
    "bas_scores_indices <- order(anomaly_scores, decreasing=F)\n",
    "# ACP et projection sur le 1er plan factoriel\n",
    "acp <- dudi.pca(test[,-33], center = T,scannf=FALSE, nf=3)"
   ]
  },
  {
   "cell_type": "code",
   "execution_count": 85,
   "id": "030376c0",
   "metadata": {},
   "outputs": [
    {
     "data": {
      "image/png": "[encoded data removed]",
      "text/plain": [
       "plot without title"
      ]
     },
     "metadata": {
      "image/png": {
       "height": 420,
       "width": 420
      }
     },
     "output_type": "display_data"
    }
   ],
   "source": [
    "couleurs <- rep(rainbow(5)[4], nrow(test))\n",
    "couleurs[hauts_scores_indices[1:5]] <- rainbow(5)[1]\n",
    "couleurs[bas_scores_indices[1:5]] <- rainbow(5)[3]\n",
    "plot(acp$li$Axis1, acp$li$Axis2, col = couleurs)"
   ]
  },
  {
   "cell_type": "markdown",
   "id": "aa7d628d",
   "metadata": {},
   "source": [
    "On observe à vue d'oeil sur le 1er plan factoriel que ce modèle semble moins bien décrire les outliers dits \"extremaux\" que le 1er. En réduisant la taille et la hauteur de la forêt, celle-ci semble être moins précise et adaptée à nos données."
   ]
  },
  {
   "cell_type": "markdown",
   "id": "52f125bf",
   "metadata": {},
   "source": [
    "Réalisons le test d'égalité de variance sur les deux premières composantes:"
   ]
  },
  {
   "cell_type": "code",
   "execution_count": 59,
   "id": "52d893b1",
   "metadata": {},
   "outputs": [
    {
     "data": {
      "text/plain": [
       "\n",
       "\tFligner-Killeen test of homogeneity of variances\n",
       "\n",
       "data:  y and group\n",
       "Fligner-Killeen:med chi-squared = 0.071412, df = 1, p-value = 0.7893\n"
      ]
     },
     "metadata": {},
     "output_type": "display_data"
    }
   ],
   "source": [
    "sample1=acp$li$Axis1[-hauts_scores_indices[1:5]]\n",
    "sample2=acp$li$Axis1\n",
    "y <- c(sample1, sample2)\n",
    "group <- as.factor(c(rep(1, length(sample1)), rep(2, length(sample2))))\n",
    "fligner.test(y,group)"
   ]
  },
  {
   "cell_type": "code",
   "execution_count": 60,
   "id": "52285431",
   "metadata": {},
   "outputs": [
    {
     "data": {
      "text/plain": [
       "\n",
       "\tFligner-Killeen test of homogeneity of variances\n",
       "\n",
       "data:  y and group\n",
       "Fligner-Killeen:med chi-squared = 0.029655, df = 1, p-value = 0.8633\n"
      ]
     },
     "metadata": {},
     "output_type": "display_data"
    }
   ],
   "source": [
    "sample1=acp$li$Axis2[-hauts_scores_indices[1:5]]\n",
    "sample2=acp$li$Axis2\n",
    "y <- c(sample1, sample2)\n",
    "group <- as.factor(c(rep(1, length(sample1)), rep(2, length(sample2))))\n",
    "fligner.test(y,group)"
   ]
  },
  {
   "cell_type": "markdown",
   "id": "1d201b87",
   "metadata": {},
   "source": [
    "Les p-valeurs confirment que le modèle n'est pas aussi bien adapté."
   ]
  },
  {
   "cell_type": "markdown",
   "id": "4e7b9bc1",
   "metadata": {},
   "source": [
    "Observons le comportement lorsque nous augmentons **nmin**:"
   ]
  },
  {
   "cell_type": "code",
   "execution_count": 61,
   "id": "a17c7917",
   "metadata": {},
   "outputs": [],
   "source": [
    "set.seed(1234)\n",
    "\n",
    "iso <- IsolationTrees(x=train,nmin=10)\n",
    "\n",
    "# calcul des scores d'anomalie des données test\n",
    "anomaly_scores <- AnomalyScore(test, iso)$outF\n",
    "\n",
    "# observations avec les plus hauts scores d'anomalies et les plus bas scores\n",
    "hauts_scores_indices <- order(anomaly_scores, decreasing=T)\n",
    "bas_scores_indices <- order(anomaly_scores, decreasing=F)\n",
    "\n",
    "# ACP et projection sur le 1er plan factoriel\n",
    "acp <- dudi.pca(test[,-33], center = T,scannf=FALSE, nf=3)"
   ]
  },
  {
   "cell_type": "code",
   "execution_count": 87,
   "id": "2b973b14",
   "metadata": {},
   "outputs": [
    {
     "data": {
      "image/png": "[encoded data removed]",
      "text/plain": [
       "plot without title"
      ]
     },
     "metadata": {
      "image/png": {
       "height": 420,
       "width": 420
      }
     },
     "output_type": "display_data"
    }
   ],
   "source": [
    "couleurs <- rep(rainbow(5)[4], nrow(test))\n",
    "couleurs[hauts_scores_indices[1:5]] <- rainbow(5)[1]\n",
    "couleurs[bas_scores_indices[1:5]] <- rainbow(5)[3]\n",
    "plot(acp$li$Axis1, acp$li$Axis2, col = couleurs)"
   ]
  },
  {
   "cell_type": "markdown",
   "id": "1b9ae7c2",
   "metadata": {},
   "source": [
    "On observe qu'en augmentant **nmin** le nombre minimum d'échantillons pour former un noeud terminal, certains des outliers les plus isolés sont désormais détectés par la forêt. A nouveau, il est important de remarquer qu'il ne s'agit pas d'une règle générale mais d'une observation spécifique à nos données et à ce modèle."
   ]
  },
  {
   "cell_type": "code",
   "execution_count": 64,
   "id": "57e4319a",
   "metadata": {},
   "outputs": [
    {
     "data": {
      "text/plain": [
       "\n",
       "\tFligner-Killeen test of homogeneity of variances\n",
       "\n",
       "data:  y and group\n",
       "Fligner-Killeen:med chi-squared = 0.016956, df = 1, p-value = 0.8964\n"
      ]
     },
     "metadata": {},
     "output_type": "display_data"
    }
   ],
   "source": [
    "sample1=acp$li$Axis1[-hauts_scores_indices[1:5]]\n",
    "sample2=acp$li$Axis1\n",
    "y <- c(sample1, sample2)\n",
    "group <- as.factor(c(rep(1, length(sample1)), rep(2, length(sample2))))\n",
    "fligner.test(y,group)"
   ]
  },
  {
   "cell_type": "code",
   "execution_count": 63,
   "id": "73177ca8",
   "metadata": {},
   "outputs": [
    {
     "data": {
      "text/plain": [
       "\n",
       "\tFligner-Killeen test of homogeneity of variances\n",
       "\n",
       "data:  y and group\n",
       "Fligner-Killeen:med chi-squared = 0.028497, df = 1, p-value = 0.8659\n"
      ]
     },
     "metadata": {},
     "output_type": "display_data"
    }
   ],
   "source": [
    "sample1=acp$li$Axis2[-hauts_scores_indices[1:5]]\n",
    "sample2=acp$li$Axis2\n",
    "y <- c(sample1, sample2)\n",
    "group <- as.factor(c(rep(1, length(sample1)), rep(2, length(sample2))))\n",
    "fligner.test(y,group)"
   ]
  },
  {
   "cell_type": "markdown",
   "id": "11ec5ef7",
   "metadata": {},
   "source": [
    "Les p-valeur ne nous permettent toujours pas de valider le modèle. On se rend compte (après une cinquantainte de tests) que cette méthode quantitative de validation ne nous a jamais permis d'obtenir une p-valeur inférieure à 5% en retirant simplement les 5 individus avec le plus grand score d'anomalie. On se concentre sur l'aspect visuel des outliers dans le premier plan factoriel pour optimiser notre modèle."
   ]
  },
  {
   "cell_type": "markdown",
   "id": "78849f77",
   "metadata": {},
   "source": [
    "Finalement, en jouant sur les différents types d'hyperparamètres, on tente d'obtenir un modèle qui s'adapte bien à nos données:"
   ]
  },
  {
   "cell_type": "code",
   "execution_count": 71,
   "id": "b3f98018",
   "metadata": {},
   "outputs": [],
   "source": [
    "set.seed(1234)\n",
    "iso <- IsolationTrees(x=train,ntree=1000,hlim=5,nmin=1,rFactor=1,nRowSamp=1)\n",
    "\n",
    "# calcul des scores d'anomalie des données test\n",
    "anomaly_scores <- AnomalyScore(test, iso)$outF\n",
    "\n",
    "# observations avec les plus hauts scores d'anomalies et les plus bas scores\n",
    "hauts_scores_indices <- order(anomaly_scores, decreasing=T)\n",
    "bas_scores_indices <- order(anomaly_scores, decreasing=F)\n",
    "\n",
    "# ACP et projection sur le 1er plan factoriel\n",
    "acp <- dudi.pca(test[,-33], center = T,scannf=FALSE, nf=3)\n",
    "contamination_rate <- 0.07"
   ]
  },
  {
   "cell_type": "code",
   "execution_count": 89,
   "id": "7f49a269",
   "metadata": {},
   "outputs": [
    {
     "data": {
      "image/png": "[encoded data removed]",
      "text/plain": [
       "plot without title"
      ]
     },
     "metadata": {
      "image/png": {
       "height": 420,
       "width": 420
      }
     },
     "output_type": "display_data"
    }
   ],
   "source": [
    "couleurs <- rep(rainbow(5)[4], nrow(test))\n",
    "couleurs[hauts_scores_indices[1:round(nrow(test)*contamination_rate)]] <- rainbow(5)[1]\n",
    "plot(acp$li$Axis1, acp$li$Axis2, col = couleurs)\n",
    "compteur()"
   ]
  },
  {
   "cell_type": "markdown",
   "id": "5040afee",
   "metadata": {},
   "source": [
    "Les indices des individus outliers sont les suivants, en tant qu'éléments de **test**:"
   ]
  },
  {
   "cell_type": "code",
   "execution_count": 91,
   "id": "1c937bfa",
   "metadata": {},
   "outputs": [
    {
     "data": {
      "text/html": [
       "<style>\n",
       ".list-inline {list-style: none; margin:0; padding: 0}\n",
       ".list-inline>li {display: inline-block}\n",
       ".list-inline>li:not(:last-child)::after {content: \"\\00b7\"; padding: 0 .5ex}\n",
       "</style>\n",
       "<ol class=list-inline><li>10</li><li>20</li><li>68</li><li>51</li><li>26</li><li>21</li><li>53</li></ol>\n"
      ],
      "text/latex": [
       "\\begin{enumerate*}\n",
       "\\item 10\n",
       "\\item 20\n",
       "\\item 68\n",
       "\\item 51\n",
       "\\item 26\n",
       "\\item 21\n",
       "\\item 53\n",
       "\\end{enumerate*}\n"
      ],
      "text/markdown": [
       "1. 10\n",
       "2. 20\n",
       "3. 68\n",
       "4. 51\n",
       "5. 26\n",
       "6. 21\n",
       "7. 53\n",
       "\n",
       "\n"
      ],
      "text/plain": [
       "[1] 10 20 68 51 26 21 53"
      ]
     },
     "metadata": {},
     "output_type": "display_data"
    }
   ],
   "source": [
    "hauts_scores_indices[1:7]"
   ]
  },
  {
   "cell_type": "markdown",
   "id": "a11530b4",
   "metadata": {},
   "source": [
    "Et en tant qu'éléments du dataset d'origine, ils ont pour indice:"
   ]
  },
  {
   "cell_type": "code",
   "execution_count": 92,
   "id": "397f3bbc",
   "metadata": {},
   "outputs": [
    {
     "data": {
      "text/html": [
       "<table class=\"dataframe\">\n",
       "<caption>A matrix: 1 × 7</caption>\n",
       "<tbody>\n",
       "\t<tr><td>18</td><td>54</td><td>207</td><td>167</td><td>78</td><td>56</td><td>171</td></tr>\n",
       "</tbody>\n",
       "</table>\n"
      ],
      "text/latex": [
       "A matrix: 1 × 7\n",
       "\\begin{tabular}{lllllll}\n",
       "\t 18 & 54 & 207 & 167 & 78 & 56 & 171\\\\\n",
       "\\end{tabular}\n"
      ],
      "text/markdown": [
       "\n",
       "A matrix: 1 × 7\n",
       "\n",
       "| 18 | 54 | 207 | 167 | 78 | 56 | 171 |\n",
       "\n"
      ],
      "text/plain": [
       "     [,1] [,2] [,3] [,4] [,5] [,6] [,7]\n",
       "[1,] 18   54   207  167  78   56   171 "
      ]
     },
     "metadata": {},
     "output_type": "display_data"
    }
   ],
   "source": [
    "li=list()\n",
    "for (j in hauts_scores_indices[1:7]) {\n",
    "  li[length(li)+1]=index_test[j]\n",
    "}\n",
    "t(li)"
   ]
  },
  {
   "cell_type": "markdown",
   "id": "0bbcf87d",
   "metadata": {},
   "source": [
    "Finalement, avec un **contamination rate** (pourcentage fixant seuil de sélection des outliers) de 0.07 et les hyperparamètres sélectionnés, on observe une description assez convenable des outliers extremaux. A nouveau, le fait qu'un point qui semble central soit détecté comme outlier peut être dû au fait qu'il présente des caractéristiques abberrantes sur d'autres composantes principales que les deux premières (par exemple si c'est un autre type d'outlier que ceux décrits plus haut)."
   ]
  },
  {
   "cell_type": "markdown",
   "id": "8d2faab3",
   "metadata": {},
   "source": [
    "Avant de retirer les outliers, on a les variances suivantes sur les trois premières composantes principales:"
   ]
  },
  {
   "cell_type": "code",
   "execution_count": 72,
   "id": "59a8e690",
   "metadata": {},
   "outputs": [
    {
     "data": {
      "text/html": [
       "8.50719290149094"
      ],
      "text/latex": [
       "8.50719290149094"
      ],
      "text/markdown": [
       "8.50719290149094"
      ],
      "text/plain": [
       "[1] 8.507193"
      ]
     },
     "metadata": {},
     "output_type": "display_data"
    },
    {
     "data": {
      "text/html": [
       "3.42185672978941"
      ],
      "text/latex": [
       "3.42185672978941"
      ],
      "text/markdown": [
       "3.42185672978941"
      ],
      "text/plain": [
       "[1] 3.421857"
      ]
     },
     "metadata": {},
     "output_type": "display_data"
    },
    {
     "data": {
      "text/html": [
       "2.97201732786015"
      ],
      "text/latex": [
       "2.97201732786015"
      ],
      "text/markdown": [
       "2.97201732786015"
      ],
      "text/plain": [
       "[1] 2.972017"
      ]
     },
     "metadata": {},
     "output_type": "display_data"
    }
   ],
   "source": [
    "var(acp$li$Axis1)\n",
    "var(acp$li$Axis2)\n",
    "var(acp$li$Axis3)"
   ]
  },
  {
   "cell_type": "markdown",
   "id": "eb173360",
   "metadata": {},
   "source": [
    "Après avoir retiré les outliers, on a les variances suivantes:"
   ]
  },
  {
   "cell_type": "code",
   "execution_count": 73,
   "id": "8d4e16db",
   "metadata": {},
   "outputs": [
    {
     "data": {
      "text/html": [
       "7.70021515963329"
      ],
      "text/latex": [
       "7.70021515963329"
      ],
      "text/markdown": [
       "7.70021515963329"
      ],
      "text/plain": [
       "[1] 7.700215"
      ]
     },
     "metadata": {},
     "output_type": "display_data"
    },
    {
     "data": {
      "text/html": [
       "3.26859850079081"
      ],
      "text/latex": [
       "3.26859850079081"
      ],
      "text/markdown": [
       "3.26859850079081"
      ],
      "text/plain": [
       "[1] 3.268599"
      ]
     },
     "metadata": {},
     "output_type": "display_data"
    },
    {
     "data": {
      "text/html": [
       "2.84253584824507"
      ],
      "text/latex": [
       "2.84253584824507"
      ],
      "text/markdown": [
       "2.84253584824507"
      ],
      "text/plain": [
       "[1] 2.842536"
      ]
     },
     "metadata": {},
     "output_type": "display_data"
    }
   ],
   "source": [
    "var(acp$li$Axis1[-hauts_scores_indices[1:round(nrow(test)*contamination_rate)]])\n",
    "var(acp$li$Axis2[-hauts_scores_indices[1:round(nrow(test)*contamination_rate)]])\n",
    "var(acp$li$Axis3[-hauts_scores_indices[1:round(nrow(test)*contamination_rate)]])"
   ]
  },
  {
   "cell_type": "markdown",
   "id": "049b652a",
   "metadata": {},
   "source": [
    "Finalement, modifier les hyperparamètres et le taux de contamination a permis de réduire la variance des composantes principales, et la projection sur le premier plan factoriel montre des outliers isolés visuellement. Ceci donne une idée de l'efficacité du modèle pour la détection d'anomalie en l'absence de labelisation."
   ]
  }
 ],
 "metadata": {
  "authors": [
   {
    "name": "El Amrani-Zerrifi Hamza"
   },
   {
    "name": "El Yaakoubi Oussama"
   },
   {
    "name": "Jhabli Ayoub"
   }
  ],
  "kernelspec": {
   "display_name": "R",
   "language": "R",
   "name": "ir"
  },
  "language_info": {
   "codemirror_mode": "r",
   "file_extension": ".r",
   "mimetype": "text/x-r-source",
   "name": "R",
   "pygments_lexer": "r",
   "version": "4.2.0"
  },
  "title": "TP mixte UP2 : Apprentissage statistique"
 },
 "nbformat": 4,
 "nbformat_minor": 5
}
